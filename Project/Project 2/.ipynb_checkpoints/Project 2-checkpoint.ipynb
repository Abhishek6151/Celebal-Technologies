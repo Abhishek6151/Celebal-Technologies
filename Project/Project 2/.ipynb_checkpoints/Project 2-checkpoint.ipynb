{
 "cells": [
  {
   "cell_type": "code",
   "execution_count": 1,
   "id": "fd147a2f-9142-4c63-8545-0afc2e9962c2",
   "metadata": {},
   "outputs": [
    {
     "name": "stdout",
     "output_type": "stream",
     "text": [
      "Requirement already satisfied: delta-spark in d:\\ann\\lib\\site-packages (2.4.0)\n",
      "Requirement already satisfied: pyspark<3.5.0,>=3.4.0 in d:\\ann\\lib\\site-packages (from delta-spark) (3.4.1)\n",
      "Requirement already satisfied: importlib-metadata>=1.0.0 in d:\\ann\\lib\\site-packages (from delta-spark) (7.0.1)\n",
      "Requirement already satisfied: zipp>=0.5 in d:\\ann\\lib\\site-packages (from importlib-metadata>=1.0.0->delta-spark) (3.17.0)\n",
      "Requirement already satisfied: py4j==0.10.9.7 in d:\\ann\\lib\\site-packages (from pyspark<3.5.0,>=3.4.0->delta-spark) (0.10.9.7)\n"
     ]
    },
    {
     "name": "stderr",
     "output_type": "stream",
     "text": [
      "WARNING: Ignoring invalid distribution ~yspark (D:\\ann\\Lib\\site-packages)\n",
      "WARNING: Ignoring invalid distribution ~yspark (D:\\ann\\Lib\\site-packages)\n",
      "WARNING: Ignoring invalid distribution ~yspark (D:\\ann\\Lib\\site-packages)\n",
      "\n",
      "[notice] A new release of pip is available: 24.2 -> 25.1.1\n",
      "[notice] To update, run: python.exe -m pip install --upgrade pip\n"
     ]
    }
   ],
   "source": [
    "!pip install delta-spark\n"
   ]
  },
  {
   "cell_type": "code",
   "execution_count": 2,
   "id": "065f0083-9e9d-4f47-bdcc-bdf8a6b28be0",
   "metadata": {},
   "outputs": [
    {
     "data": {
      "text/html": [
       "\n",
       "            <div>\n",
       "                <p><b>SparkSession - in-memory</b></p>\n",
       "                \n",
       "        <div>\n",
       "            <p><b>SparkContext</b></p>\n",
       "\n",
       "            <p><a href=\"http://Abhishek:4040\">Spark UI</a></p>\n",
       "\n",
       "            <dl>\n",
       "              <dt>Version</dt>\n",
       "                <dd><code>v3.4.4</code></dd>\n",
       "              <dt>Master</dt>\n",
       "                <dd><code>local[*]</code></dd>\n",
       "              <dt>AppName</dt>\n",
       "                <dd><code>MNIST Loader</code></dd>\n",
       "            </dl>\n",
       "        </div>\n",
       "        \n",
       "            </div>\n",
       "        "
      ],
      "text/plain": [
       "<pyspark.sql.session.SparkSession at 0x1989326c4d0>"
      ]
     },
     "execution_count": 2,
     "metadata": {},
     "output_type": "execute_result"
    }
   ],
   "source": [
    "\n",
    "\n",
    "import os\n",
    "\n",
    "os.environ[\"HADOOP_HOME\"] = \"C:\\\\hadoop\"\n",
    "os.environ[\"PATH\"] += os.pathsep + \"C:\\\\hadoop\\\\bin\"\n",
    "\n",
    "from delta import configure_spark_with_delta_pip\n",
    "from pyspark.sql import SparkSession\n",
    "\n",
    "builder = SparkSession.builder \\\n",
    "    .appName(\"MNIST Loader\") \\\n",
    "    .config(\"spark.sql.extensions\", \"io.delta.sql.DeltaSparkSessionExtension\") \\\n",
    "    .config(\"spark.sql.catalog.spark_catalog\", \"org.apache.spark.sql.delta.catalog.DeltaCatalog\")\n",
    "\n",
    "spark = configure_spark_with_delta_pip(builder).getOrCreate()\n",
    "spark\n"
   ]
  },
  {
   "cell_type": "code",
   "execution_count": 3,
   "id": "f363576d-23e3-4a3b-9243-1ab2c4713fd2",
   "metadata": {},
   "outputs": [
    {
     "name": "stdout",
     "output_type": "stream",
     "text": [
      "Folders found: ['0', '1', '2', '3', '4', '5', '6', '7', '8', '9']\n",
      "Digit 0 has 5923 images\n",
      "Digit 1 has 6742 images\n",
      "Digit 2 has 5958 images\n",
      "Digit 3 has 6131 images\n",
      "Digit 4 has 5842 images\n",
      "Digit 5 has 5421 images\n",
      "Digit 6 has 5918 images\n",
      "Digit 7 has 6265 images\n",
      "Digit 8 has 5851 images\n",
      "Digit 9 has 5949 images\n",
      "\n",
      "Total images found: 60000\n"
     ]
    }
   ],
   "source": [
    "import os\n",
    "\n",
    "base_dir = \"../mnist_png/training\"\n",
    "\n",
    "digit_folders = sorted([f for f in os.listdir(base_dir) if os.path.isdir(os.path.join(base_dir, f))])\n",
    "print(\"Folders found:\", digit_folders)\n",
    "\n",
    "image_paths = []\n",
    "for digit in digit_folders:\n",
    "    folder_path = os.path.join(base_dir, digit)\n",
    "    files = [f for f in os.listdir(folder_path) if f.endswith('.png')]\n",
    "    print(f\"Digit {digit} has {len(files)} images\")\n",
    "    for file in files:\n",
    "        image_paths.append(os.path.join(folder_path, file))\n",
    "\n",
    "print(f\"\\nTotal images found: {len(image_paths)}\")\n"
   ]
  },
  {
   "cell_type": "code",
   "execution_count": 14,
   "id": "487ee20a-2317-4ece-8cbb-2d4282820a2b",
   "metadata": {},
   "outputs": [
    {
     "name": "stdout",
     "output_type": "stream",
     "text": [
      "Total images matched with glob: 60000\n",
      "Sample (globbed) paths:\n",
      "../mnist_png/training\\0\\1.png\n",
      "../mnist_png/training\\0\\1000.png\n",
      "../mnist_png/training\\0\\10005.png\n",
      "../mnist_png/training\\0\\10010.png\n",
      "../mnist_png/training\\0\\10022.png\n"
     ]
    }
   ],
   "source": [
    "import glob\n",
    "base_dir = \"../mnist_png/training\"\n",
    "glob_paths = glob.glob(base_dir + \"/*/*.png\", recursive=True)\n",
    "\n",
    "\n",
    "print(\"Total images matched with glob:\", len(glob_paths))\n",
    "print(\"Sample (globbed) paths:\")\n",
    "for path in glob_paths[:5]:\n",
    "    print(path)\n"
   ]
  },
  {
   "cell_type": "code",
   "execution_count": 15,
   "id": "86c28f36-cf20-42b0-b3a8-81368f114f6a",
   "metadata": {},
   "outputs": [
    {
     "name": "stdout",
     "output_type": "stream",
     "text": [
      "Selected paths per digit (5 each): 50\n",
      "../mnist_png/training\\0\\30565.png\n",
      "../mnist_png/training\\0\\14749.png\n",
      "../mnist_png/training\\0\\5978.png\n",
      "../mnist_png/training\\0\\58575.png\n",
      "../mnist_png/training\\0\\15505.png\n",
      "../mnist_png/training\\1\\3427.png\n",
      "../mnist_png/training\\1\\14427.png\n",
      "../mnist_png/training\\1\\10907.png\n",
      "../mnist_png/training\\1\\31966.png\n",
      "../mnist_png/training\\1\\57961.png\n"
     ]
    }
   ],
   "source": [
    "import random\n",
    "from collections import defaultdict\n",
    "\n",
    "digit_wise = defaultdict(list)\n",
    "for path in glob_paths:\n",
    "    digit = os.path.basename(os.path.dirname(path))\n",
    "    digit_wise[digit].append(path)\n",
    "\n",
    "selected_paths = []\n",
    "for digit in sorted(digit_wise.keys()):\n",
    "    selected = random.sample(digit_wise[digit], 5)\n",
    "    selected_paths.extend(selected)\n",
    "\n",
    "print(\"Selected paths per digit (5 each):\", len(selected_paths))\n",
    "for path in selected_paths[:10]:\n",
    "    print(path)\n"
   ]
  },
  {
   "cell_type": "code",
   "execution_count": 16,
   "id": "27e567d3-ebea-4eca-b2ce-126511a7b114",
   "metadata": {},
   "outputs": [
    {
     "name": "stdout",
     "output_type": "stream",
     "text": [
      "+--------------------+-------------------+------+--------------------+-----+\n",
      "|                path|   modificationTime|length|             content|label|\n",
      "+--------------------+-------------------+------+--------------------+-----+\n",
      "|file:/C:/Users/ab...|2015-12-11 06:25:27|   332|[89 50 4E 47 0D 0...|    0|\n",
      "|file:/C:/Users/ab...|2015-12-11 06:25:26|   304|[89 50 4E 47 0D 0...|    0|\n",
      "|file:/C:/Users/ab...|2015-12-11 06:25:27|   303|[89 50 4E 47 0D 0...|    0|\n",
      "|file:/C:/Users/ab...|2015-12-11 06:25:27|   297|[89 50 4E 47 0D 0...|    4|\n",
      "|file:/C:/Users/ab...|2015-12-11 06:25:33|   296|[89 50 4E 47 0D 0...|    3|\n",
      "+--------------------+-------------------+------+--------------------+-----+\n",
      "only showing top 5 rows\n",
      "\n"
     ]
    }
   ],
   "source": [
    "from pyspark.sql.functions import input_file_name, regexp_extract\n",
    "\n",
    "df = spark.read.format(\"binaryFile\").load(selected_paths)\n",
    "df = df.withColumn(\"label\", regexp_extract(input_file_name(), r\"training/(\\d)/\", 1))\n",
    "df.show(5)\n"
   ]
  },
  {
   "cell_type": "code",
   "execution_count": 22,
   "id": "ecd14ff6-0442-4ee1-87e6-6b01f7ff3447",
   "metadata": {},
   "outputs": [
    {
     "name": "stdout",
     "output_type": "stream",
     "text": [
      "Data saved to managed Delta table 'mnist_images' without compression.\n",
      "+-----------------------------------------------------------+-----+\n",
      "|path                                                       |label|\n",
      "+-----------------------------------------------------------+-----+\n",
      "|file:/C:/Users/abhic/Project/mnist_png/training/0/15505.png|0    |\n",
      "|file:/C:/Users/abhic/Project/mnist_png/training/0/5978.png |0    |\n",
      "|file:/C:/Users/abhic/Project/mnist_png/training/0/14749.png|0    |\n",
      "|file:/C:/Users/abhic/Project/mnist_png/training/4/17157.png|4    |\n",
      "|file:/C:/Users/abhic/Project/mnist_png/training/3/57886.png|3    |\n",
      "+-----------------------------------------------------------+-----+\n",
      "only showing top 5 rows\n",
      "\n"
     ]
    }
   ],
   "source": [
    "df.write.format(\"delta\") \\\n",
    "    .mode(\"overwrite\") \\\n",
    "    .option(\"compression\", \"none\") \\\n",
    "    .saveAsTable(\"mnist_images\")\n",
    "\n",
    "print(\"Data saved to managed Delta table 'mnist_images' without compression.\")\n",
    "\n",
    "\n",
    "df.select(\"path\", \"label\").show(5, truncate=False)\n"
   ]
  },
  {
   "cell_type": "code",
   "execution_count": 18,
   "id": "0311a910-b5f4-4355-9813-f1db7bce15ae",
   "metadata": {},
   "outputs": [
    {
     "name": "stdout",
     "output_type": "stream",
     "text": [
      "Digit: 0, Filename: 15505.png\n"
     ]
    },
    {
     "data": {
      "image/jpeg": "[encoded data removed]",
      "image/png": "[encoded data removed]",
      "text/plain": [
       "<PIL.PngImagePlugin.PngImageFile image mode=L size=28x28>"
      ]
     },
     "metadata": {},
     "output_type": "display_data"
    },
    {
     "name": "stdout",
     "output_type": "stream",
     "text": [
      "Digit: 0, Filename: 5978.png\n"
     ]
    },
    {
     "data": {
      "image/jpeg": "[encoded data removed]",
      "image/png": "[encoded data removed]",
      "text/plain": [
       "<PIL.PngImagePlugin.PngImageFile image mode=L size=28x28>"
      ]
     },
     "metadata": {},
     "output_type": "display_data"
    },
    {
     "name": "stdout",
     "output_type": "stream",
     "text": [
      "Digit: 0, Filename: 14749.png\n"
     ]
    },
    {
     "data": {
      "image/jpeg": "[encoded data removed]",
      "image/png": "[encoded data removed]",
      "text/plain": [
       "<PIL.PngImagePlugin.PngImageFile image mode=L size=28x28>"
      ]
     },
     "metadata": {},
     "output_type": "display_data"
    },
    {
     "name": "stdout",
     "output_type": "stream",
     "text": [
      "Digit: 4, Filename: 17157.png\n"
     ]
    },
    {
     "data": {
      "image/jpeg": "[encoded data removed]",
      "image/png": "[encoded data removed]",
      "text/plain": [
       "<PIL.PngImagePlugin.PngImageFile image mode=L size=28x28>"
      ]
     },
     "metadata": {},
     "output_type": "display_data"
    },
    {
     "name": "stdout",
     "output_type": "stream",
     "text": [
      "Digit: 3, Filename: 57886.png\n"
     ]
    },
    {
     "data": {
      "image/jpeg": "[encoded data removed]",
      "image/png": "[encoded data removed]",
      "text/plain": [
       "<PIL.PngImagePlugin.PngImageFile image mode=L size=28x28>"
      ]
     },
     "metadata": {},
     "output_type": "display_data"
    }
   ],
   "source": [
    "import pandas as pd\n",
    "from IPython.display import display\n",
    "from PIL import Image\n",
    "import base64\n",
    "from io import BytesIO\n",
    "\n",
    "\n",
    "df_loaded = df.select(\"path\", \"label\", \"content\").limit(5).toPandas()\n",
    "df_loaded[\"image_base64\"] = df_loaded[\"content\"].apply(lambda x: base64.b64encode(x).decode('utf-8'))\n",
    "df_loaded[\"filename\"] = df_loaded[\"path\"].apply(lambda x: os.path.basename(x))\n",
    "df_loaded[\"digit\"] = df_loaded[\"label\"]\n",
    "\n",
    "\n",
    "for i in range(5):\n",
    "    base64_img = df_loaded.loc[i, \"image_base64\"]\n",
    "    image_bytes = base64.b64decode(base64_img)\n",
    "    img = Image.open(BytesIO(image_bytes))\n",
    "    print(f\"Digit: {df_loaded.loc[i, 'digit']}, Filename: {df_loaded.loc[i, 'filename']}\")\n",
    "    display(img)"
   ]
  },
  {
   "cell_type": "code",
   "execution_count": 23,
   "id": "fa1078f1-df03-4733-8f99-74780efcce55",
   "metadata": {},
   "outputs": [
    {
     "name": "stdout",
     "output_type": "stream",
     "text": [
      "Delta tables in current database:\n"
     ]
    },
    {
     "data": {
      "text/html": [
       "<div>\n",
       "<style scoped>\n",
       "    .dataframe tbody tr th:only-of-type {\n",
       "        vertical-align: middle;\n",
       "    }\n",
       "\n",
       "    .dataframe tbody tr th {\n",
       "        vertical-align: top;\n",
       "    }\n",
       "\n",
       "    .dataframe thead th {\n",
       "        text-align: right;\n",
       "    }\n",
       "</style>\n",
       "<table border=\"1\" class=\"dataframe\">\n",
       "  <thead>\n",
       "    <tr style=\"text-align: right;\">\n",
       "      <th></th>\n",
       "      <th>namespace</th>\n",
       "      <th>tableName</th>\n",
       "      <th>isTemporary</th>\n",
       "    </tr>\n",
       "  </thead>\n",
       "  <tbody>\n",
       "    <tr>\n",
       "      <th>0</th>\n",
       "      <td>default</td>\n",
       "      <td>mnist_images</td>\n",
       "      <td>False</td>\n",
       "    </tr>\n",
       "  </tbody>\n",
       "</table>\n",
       "</div>"
      ],
      "text/plain": [
       "  namespace     tableName  isTemporary\n",
       "0   default  mnist_images        False"
      ]
     },
     "metadata": {},
     "output_type": "display_data"
    },
    {
     "name": "stdout",
     "output_type": "stream",
     "text": [
      "\n",
      "Details of 'mnist_images':\n"
     ]
    },
    {
     "data": {
      "text/html": [
       "<div>\n",
       "<style scoped>\n",
       "    .dataframe tbody tr th:only-of-type {\n",
       "        vertical-align: middle;\n",
       "    }\n",
       "\n",
       "    .dataframe tbody tr th {\n",
       "        vertical-align: top;\n",
       "    }\n",
       "\n",
       "    .dataframe thead th {\n",
       "        text-align: right;\n",
       "    }\n",
       "</style>\n",
       "<table border=\"1\" class=\"dataframe\">\n",
       "  <thead>\n",
       "    <tr style=\"text-align: right;\">\n",
       "      <th></th>\n",
       "      <th>format</th>\n",
       "      <th>id</th>\n",
       "      <th>name</th>\n",
       "      <th>description</th>\n",
       "      <th>location</th>\n",
       "      <th>createdAt</th>\n",
       "      <th>lastModified</th>\n",
       "      <th>partitionColumns</th>\n",
       "      <th>numFiles</th>\n",
       "      <th>sizeInBytes</th>\n",
       "      <th>properties</th>\n",
       "      <th>minReaderVersion</th>\n",
       "      <th>minWriterVersion</th>\n",
       "      <th>tableFeatures</th>\n",
       "    </tr>\n",
       "  </thead>\n",
       "  <tbody>\n",
       "    <tr>\n",
       "      <th>0</th>\n",
       "      <td>delta</td>\n",
       "      <td>d4543d7f-0056-4ae1-bc20-0a1cce04506e</td>\n",
       "      <td>spark_catalog.default.mnist_images</td>\n",
       "      <td>None</td>\n",
       "      <td>file:/C:/Users/abhic/Project/Project%202/spark...</td>\n",
       "      <td>2025-07-22 17:41:45.091</td>\n",
       "      <td>2025-07-22 22:28:50.333</td>\n",
       "      <td>[]</td>\n",
       "      <td>10</td>\n",
       "      <td>39017</td>\n",
       "      <td>{}</td>\n",
       "      <td>1</td>\n",
       "      <td>2</td>\n",
       "      <td>[appendOnly, invariants]</td>\n",
       "    </tr>\n",
       "  </tbody>\n",
       "</table>\n",
       "</div>"
      ],
      "text/plain": [
       "  format                                    id  \\\n",
       "0  delta  d4543d7f-0056-4ae1-bc20-0a1cce04506e   \n",
       "\n",
       "                                 name description  \\\n",
       "0  spark_catalog.default.mnist_images        None   \n",
       "\n",
       "                                            location                createdAt  \\\n",
       "0  file:/C:/Users/abhic/Project/Project%202/spark...  2025-07-22 17:41:45.091   \n",
       "\n",
       "              lastModified partitionColumns  numFiles  sizeInBytes properties  \\\n",
       "0  2025-07-22 22:28:50.333               []        10        39017         {}   \n",
       "\n",
       "   minReaderVersion  minWriterVersion             tableFeatures  \n",
       "0                 1                 2  [appendOnly, invariants]  "
      ]
     },
     "metadata": {},
     "output_type": "display_data"
    }
   ],
   "source": [
    "from pyspark.sql.functions import col\n",
    "\n",
    "\n",
    "describe_df = spark.sql(\"DESCRIBE DETAIL mnist_images\")\n",
    "\n",
    "\n",
    "safe_df = describe_df.select([\n",
    "    col(c).cast(\"string\") if dtype.startswith(\"timestamp\") else col(c)\n",
    "    for c, dtype in describe_df.dtypes\n",
    "])\n",
    "\n",
    "\n",
    "tables = spark.sql(\"SHOW TABLES\").toPandas()\n",
    "details = safe_df.toPandas()\n",
    "\n",
    "print(\"Delta tables in current database:\")\n",
    "display(tables)\n",
    "\n",
    "print(\"\\nDetails of 'mnist_images':\")\n",
    "display(details)\n"
   ]
  },
  {
   "cell_type": "code",
   "execution_count": 26,
   "id": "0e0962be-7783-4620-8015-da16ee576530",
   "metadata": {},
   "outputs": [
    {
     "name": "stdout",
     "output_type": "stream",
     "text": [
      "+----------------------------+---------------------------------------------------------------------+-------+\n",
      "|col_name                    |data_type                                                            |comment|\n",
      "+----------------------------+---------------------------------------------------------------------+-------+\n",
      "|path                        |string                                                               |null   |\n",
      "|modificationTime            |timestamp                                                            |null   |\n",
      "|length                      |bigint                                                               |null   |\n",
      "|content                     |binary                                                               |null   |\n",
      "|label                       |string                                                               |null   |\n",
      "|                            |                                                                     |       |\n",
      "|# Detailed Table Information|                                                                     |       |\n",
      "|Name                        |spark_catalog.default.mnist_images                                   |       |\n",
      "|Type                        |MANAGED                                                              |       |\n",
      "|Location                    |file:/C:/Users/abhic/Project/Project%202/spark-warehouse/mnist_images|       |\n",
      "|Provider                    |delta                                                                |       |\n",
      "|Table Properties            |[delta.minReaderVersion=1,delta.minWriterVersion=2]                  |       |\n",
      "+----------------------------+---------------------------------------------------------------------+-------+\n",
      "\n"
     ]
    }
   ],
   "source": [
    "spark.sql(\"DESCRIBE FORMATTED mnist_images\").show(truncate=False)\n"
   ]
  },
  {
   "cell_type": "code",
   "execution_count": null,
   "id": "9bfa04be-eaf4-4139-a89e-1c7e795c4b6e",
   "metadata": {},
   "outputs": [],
   "source": []
  },
  {
   "cell_type": "code",
   "execution_count": null,
   "id": "f3e3f81d-f094-4cd5-8fbe-e8ad68a729ab",
   "metadata": {},
   "outputs": [],
   "source": []
  }
 ],
 "metadata": {
  "kernelspec": {
   "display_name": "Python 3 (ipykernel)",
   "language": "python",
   "name": "python3"
  },
  "language_info": {
   "codemirror_mode": {
    "name": "ipython",
    "version": 3
   },
   "file_extension": ".py",
   "mimetype": "text/x-python",
   "name": "python",
   "nbconvert_exporter": "python",
   "pygments_lexer": "ipython3",
   "version": "3.12.4"
  }
 },
 "nbformat": 4,
 "nbformat_minor": 5
}

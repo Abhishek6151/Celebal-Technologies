{
 "cells": [
  {
   "cell_type": "code",
   "execution_count": 114,
   "id": "f61df7e9-a8ca-45e1-b24e-6fc7f0659933",
   "metadata": {},
   "outputs": [],
   "source": [
    "import re\n",
    "import random\n",
    "import base64\n",
    "import pandas as pd\n",
    "from io import BytesIO\n",
    "from PIL import Image\n",
    "from azure.storage.blob import BlobServiceClient, ContainerClient\n"
   ]
  },
  {
   "cell_type": "code",
   "execution_count": 120,
   "id": "353aa537-4a7b-48b2-931a-9f64daaddba5",
   "metadata": {},
   "outputs": [],
   "source": [
    "# Replace with your actual values\n",
    "connection_string = \"DefaultEndpointsProtocol=https;AccountName=adfstoragelab01;AccountKey=ZKYniERkZ8/CuDtFWKzNzCeSNqWIHZb9OndCimIUdjN9BsISxLEbpRhGBhTAam6yBJG3tQBra/KV+AStFAYu2w==;EndpointSuffix=core.windows.net\"\n",
    "\n",
    "container_name = \"images\"\n",
    "\n",
    "container_client = ContainerClient.from_connection_string(conn_str=connection_string, container_name=container_name)\n",
    "blob_service_client = BlobServiceClient.from_connection_string(connection_string)\n"
   ]
  },
  {
   "cell_type": "code",
   "execution_count": 122,
   "id": "7210b57e-f202-454f-80e0-d803dbad36d7",
   "metadata": {},
   "outputs": [
    {
     "name": "stdout",
     "output_type": "stream",
     "text": [
      "📁 Listing files in 'imageshandwritten':\n",
      "imageshandwritten1_img_1.png\n"
     ]
    }
   ],
   "source": [
    "print(\"📁 Listing files in 'imageshandwritten':\")\n",
    "blob_list = container_client.list_blobs(name_starts_with=\"imageshandwritten\")\n",
    "all_blob_names = [blob.name for blob in blob_list]\n",
    "for name in all_blob_names:\n",
    "    print(name)\n"
   ]
  },
  {
   "cell_type": "code",
   "execution_count": 124,
   "id": "c7c1c492-7869-437a-a336-afa712bf9f6e",
   "metadata": {},
   "outputs": [],
   "source": [
    "digit_groups = {str(i): [] for i in range(10)}\n",
    "for blob_name in all_blob_names:\n",
    "    match = re.search(r'imageshandwritten(\\d)', blob_name)\n",
    "    if match:\n",
    "        digit = match.group(1)\n",
    "        digit_groups[digit].append(blob_name)\n"
   ]
  },
  {
   "cell_type": "code",
   "execution_count": 126,
   "id": "ba2824c4-e42f-44e9-b17a-0432a3ea69c4",
   "metadata": {},
   "outputs": [
    {
     "name": "stdout",
     "output_type": "stream",
     "text": [
      "🎯 Selected from digit 0: []\n",
      "🎯 Selected from digit 1: ['imageshandwritten1_img_1.png']\n",
      "🎯 Selected from digit 2: []\n",
      "🎯 Selected from digit 3: []\n",
      "🎯 Selected from digit 4: []\n",
      "🎯 Selected from digit 5: []\n",
      "🎯 Selected from digit 6: []\n",
      "🎯 Selected from digit 7: []\n",
      "🎯 Selected from digit 8: []\n",
      "🎯 Selected from digit 9: []\n"
     ]
    }
   ],
   "source": [
    "selected_blobs = []\n",
    "for digit, blobs in digit_groups.items():\n",
    "    selected = random.sample(blobs, min(5, len(blobs)))\n",
    "    print(f\"🎯 Selected from digit {digit}:\", selected)\n",
    "    selected_blobs.extend(selected)\n"
   ]
  },
  {
   "cell_type": "code",
   "execution_count": 128,
   "id": "0849795c-cd94-4800-8d26-5b5e2ef81269",
   "metadata": {},
   "outputs": [
    {
     "name": "stdout",
     "output_type": "stream",
     "text": [
      "📥 Downloading: imageshandwritten1_img_1.png\n"
     ]
    }
   ],
   "source": [
    "image_data = []\n",
    "\n",
    "for blob_name in selected_blobs:\n",
    "    blob_client = blob_service_client.get_blob_client(container=container_name, blob=blob_name)\n",
    "    print(f\"📥 Downloading: {blob_name}\")\n",
    "    stream = blob_client.download_blob()\n",
    "    image_bytes = stream.readall()\n",
    "    base64_str = base64.b64encode(image_bytes).decode(\"utf-8\")\n",
    "    image_data.append({\"filename\": blob_name, \"image_base64\": base64_str})\n"
   ]
  },
  {
   "cell_type": "code",
   "execution_count": 130,
   "id": "cdd777d8-4e74-4269-86d9-7a4eae14bfb8",
   "metadata": {},
   "outputs": [
    {
     "name": "stdout",
     "output_type": "stream",
     "text": [
      "✅ Image data saved to 'mnist_images.csv'\n"
     ]
    }
   ],
   "source": [
    "df = pd.DataFrame(image_data)\n",
    "df.to_csv(\"mnist_images.csv\", index=False)\n",
    "print(\"✅ Image data saved to 'mnist_images.csv'\")\n"
   ]
  },
  {
   "cell_type": "code",
   "execution_count": 132,
   "id": "ae5c49aa-8b67-4330-8eb3-20b62b5b386d",
   "metadata": {},
   "outputs": [
    {
     "name": "stdout",
     "output_type": "stream",
     "text": [
      "                       filename  \\\n",
      "0  imageshandwritten1_img_1.png   \n",
      "\n",
      "                                        image_base64  \n",
      "0  UklGRmBeAABXRUJQVlA4IFReAAAQEAKdASruAngBPok4mE...  \n"
     ]
    }
   ],
   "source": [
    "df = pd.read_csv(\"mnist_images.csv\")\n",
    "print(df.head())\n",
    "\n",
    "base64_str = df.loc[0, 'image_base64']\n",
    "image_bytes = base64.b64decode(base64_str)\n",
    "image = Image.open(BytesIO(image_bytes))\n",
    "image.show()\n"
   ]
  },
  {
   "cell_type": "code",
   "execution_count": null,
   "id": "30231dba-c113-4fa1-ab25-847f8aecec06",
   "metadata": {},
   "outputs": [],
   "source": []
  }
 ],
 "metadata": {
  "kernelspec": {
   "display_name": "Python 3 (ipykernel)",
   "language": "python",
   "name": "python3"
  },
  "language_info": {
   "codemirror_mode": {
    "name": "ipython",
    "version": 3
   },
   "file_extension": ".py",
   "mimetype": "text/x-python",
   "name": "python",
   "nbconvert_exporter": "python",
   "pygments_lexer": "ipython3",
   "version": "3.12.4"
  }
 },
 "nbformat": 4,
 "nbformat_minor": 5
}
